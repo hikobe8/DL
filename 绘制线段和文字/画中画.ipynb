{
 "cells": [
  {
   "cell_type": "code",
   "execution_count": null,
   "metadata": {},
   "outputs": [],
   "source": [
    "import cv2\n",
    "import numpy as np\n",
    "\n",
    "img = cv2.imread('test.jpg', 1)\n",
    "smallHeight = int(img.shape[0] * 0.4)\n",
    "smallWidth = int(img.shape[1] * 0.4)\n",
    "small = cv2.resize(img, (smallWidth, smallHeight))\n",
    "for i in range(0, smallHeight):\n",
    "    for j in range(0, smallWidth):\n",
    "        img[i + 100, j + 100] = small[i, j]\n",
    "cv2.imshow('dst', img)\n",
    "cv2.waitKey(0)"
   ]
  },
  {
   "cell_type": "code",
   "execution_count": null,
   "metadata": {},
   "outputs": [],
   "source": []
  }
 ],
 "metadata": {
  "kernelspec": {
   "display_name": "Python 3",
   "language": "python",
   "name": "python3"
  },
  "language_info": {
   "codemirror_mode": {
    "name": "ipython",
    "version": 3
   },
   "file_extension": ".py",
   "mimetype": "text/x-python",
   "name": "python",
   "nbconvert_exporter": "python",
   "pygments_lexer": "ipython3",
   "version": "3.6.8"
  }
 },
 "nbformat": 4,
 "nbformat_minor": 2
}
