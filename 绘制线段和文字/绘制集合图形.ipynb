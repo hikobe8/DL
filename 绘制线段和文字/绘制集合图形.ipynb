{
 "cells": [
  {
   "cell_type": "code",
   "execution_count": null,
   "metadata": {},
   "outputs": [
    {
     "name": "stdout",
     "output_type": "stream",
     "text": [
      "shape (5, 2)\n",
      "[[150  50]\n",
      " [180 150]\n",
      " [120 400]\n",
      " [ 80 350]\n",
      " [150  50]]\n",
      "[[[150  50]]\n",
      "\n",
      " [[180 150]]\n",
      "\n",
      " [[120 400]]\n",
      "\n",
      " [[ 80 350]]\n",
      "\n",
      " [[150  50]]]\n",
      "shape (5, 1, 2)\n"
     ]
    }
   ],
   "source": [
    "import cv2\n",
    "import numpy as np\n",
    "\n",
    "dst = np.zeros((500, 500, 3), np.uint8)\n",
    "\n",
    "#绘制矩形\n",
    "cv2.rectangle(dst, (100, 100), (300, 400), (255, 0, 0), -1) # -1 表示填充 正数表示不填充，为线段的宽度\n",
    "\n",
    "#绘制圆形\n",
    "cv2.circle(dst, (250, 250), 100, (0, 255, 0), -1)\n",
    "\n",
    "#绘制椭圆\n",
    "cv2.ellipse(dst, (300, 300), (150, 100), 45, 0, 180, (255, 255, 255), -1) # 0 0 360 角度(逆时针) 起始角度 终止角度 \n",
    "\n",
    "#绘制任意多边形\n",
    "points = np.array([[150, 50], [180, 150], [120, 400], [80, 350], [150, 50]])\n",
    "print('shape', points.shape)\n",
    "print(points)\n",
    "points = points.reshape([-1, 1, 2]) #矩阵转置 [5, 2] -> [5, 1, 2]\n",
    "print(points)\n",
    "print('shape', points.shape)\n",
    "cv2.polylines(dst, [points], True, (128, 128, 128))\n",
    "cv2.imshow('dst', dst)\n",
    "cv2.waitKey(0)"
   ]
  },
  {
   "cell_type": "code",
   "execution_count": null,
   "metadata": {},
   "outputs": [],
   "source": []
  }
 ],
 "metadata": {
  "kernelspec": {
   "display_name": "Python 3",
   "language": "python",
   "name": "python3"
  },
  "language_info": {
   "codemirror_mode": {
    "name": "ipython",
    "version": 3
   },
   "file_extension": ".py",
   "mimetype": "text/x-python",
   "name": "python",
   "nbconvert_exporter": "python",
   "pygments_lexer": "ipython3",
   "version": "3.6.8"
  }
 },
 "nbformat": 4,
 "nbformat_minor": 2
}
