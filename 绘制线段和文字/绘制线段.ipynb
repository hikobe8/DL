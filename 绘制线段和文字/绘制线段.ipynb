{
 "cells": [
  {
   "cell_type": "code",
   "execution_count": null,
   "metadata": {},
   "outputs": [],
   "source": [
    "import cv2\n",
    "import numpy as np\n",
    "\n",
    "dst = np.zeros((500, 500, 3), np.uint8)\n",
    "#绘制一条 (100, 100) - (300, 300) 的红色线段\n",
    "cv2.line(dst, (100, 100), (300, 300), (0, 0 ,255))\n",
    "cv2.line(dst, (200, 100), (200, 300), (0, 255, 0), 20)\n",
    "cv2.line(dst, (200, 400), (400, 400), (255, 0, 0), 20, cv2.LINE_AA) # LINE_AA 抗锯齿，更加光滑\n",
    "#绘制三角形 （三条线段）\n",
    "cv2.line(dst, (50, 100), (150, 200), (255, 2555 ,255))\n",
    "cv2.line(dst, (150, 200), (100, 400), (255, 2555 ,255))\n",
    "cv2.line(dst, (100, 400), (50, 100), (255, 2555 ,255))\n",
    "cv2.imshow('dst', dst)\n",
    "cv2.waitKey(0)"
   ]
  },
  {
   "cell_type": "code",
   "execution_count": null,
   "metadata": {},
   "outputs": [],
   "source": []
  }
 ],
 "metadata": {
  "kernelspec": {
   "display_name": "Python 3",
   "language": "python",
   "name": "python3"
  },
  "language_info": {
   "codemirror_mode": {
    "name": "ipython",
    "version": 3
   },
   "file_extension": ".py",
   "mimetype": "text/x-python",
   "name": "python",
   "nbconvert_exporter": "python",
   "pygments_lexer": "ipython3",
   "version": "3.6.8"
  }
 },
 "nbformat": 4,
 "nbformat_minor": 2
}
