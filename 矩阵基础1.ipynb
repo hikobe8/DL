{
 "cells": [
  {
   "cell_type": "code",
   "execution_count": 2,
   "metadata": {},
   "outputs": [
    {
     "name": "stdout",
     "output_type": "stream",
     "text": [
      "8.0\n",
      "end!\n"
     ]
    }
   ],
   "source": [
    "import tensorflow as tf\n",
    "#placeholder的使用\n",
    "data1 = tf.placeholder(tf.float32)\n",
    "data2 = tf.placeholder(tf.float32)\n",
    "dataAdd = tf.add(data1, data2)\n",
    "with tf.Session() as sess:\n",
    "    print(sess.run(dataAdd, feed_dict={data1:6, data2:2}))\n",
    "print('end!')"
   ]
  },
  {
   "cell_type": "code",
   "execution_count": 12,
   "metadata": {},
   "outputs": [
    {
     "name": "stdout",
     "output_type": "stream",
     "text": [
      "(1, 2)\n",
      "(2, 1)\n",
      "(3, 2)\n",
      "[[1 2]\n",
      " [3 4]\n",
      " [5 6]]\n",
      "[1 2]\n",
      "2\n",
      "[1 3 5]\n",
      "[1 2]\n"
     ]
    }
   ],
   "source": [
    "#矩阵 m*n = 行*列\n",
    "import tensorflow as tf\n",
    "data1 = tf.constant([[6,6]])\n",
    "print(data1.shape) #(1,2) 1 行 2 列\n",
    "data2 = tf.constant([[1],\n",
    "                    [2]])\n",
    "print(data2.shape) #(2,1) 2 行 1 列\n",
    "data3 = tf.constant([[1,2],\n",
    "                     [3,4],\n",
    "                     [5,6]])\n",
    "print(data3.shape) # shape 表示矩阵的维度\n",
    "with tf.Session() as sess:\n",
    "    print(sess.run(data3)) # 打印所有数据\n",
    "    print(sess.run(data3[0])) #打印第1行\n",
    "    print(sess.run(data3[0][1])) #打印第1行第2列\n",
    "    print(sess.run(data3[:, 0])) #打印所有行的第一列数据\n",
    "    print(sess.run(data3[0, :])) #打印所有列的第一行数据"
   ]
  },
  {
   "cell_type": "code",
   "execution_count": null,
   "metadata": {},
   "outputs": [],
   "source": []
  }
 ],
 "metadata": {
  "kernelspec": {
   "display_name": "Python 3",
   "language": "python",
   "name": "python3"
  },
  "language_info": {
   "codemirror_mode": {
    "name": "ipython",
    "version": 3
   },
   "file_extension": ".py",
   "mimetype": "text/x-python",
   "name": "python",
   "nbconvert_exporter": "python",
   "pygments_lexer": "ipython3",
   "version": "3.6.8"
  }
 },
 "nbformat": 4,
 "nbformat_minor": 2
}
