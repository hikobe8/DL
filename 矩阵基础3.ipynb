{
 "cells": [
  {
   "cell_type": "code",
   "execution_count": 1,
   "metadata": {},
   "outputs": [
    {
     "name": "stdout",
     "output_type": "stream",
     "text": [
      "[[0 0 0]]\n",
      "[[0. 0. 0.]]\n",
      "[[1. 1. 1.]\n",
      " [1. 1. 1.]]\n",
      "[[0. 0. 0.]\n",
      " [0. 0. 0.]]\n",
      "[[58 58 58]\n",
      " [58 58 58]]\n",
      "[0.  0.5 1.  1.5 2. ]\n",
      "[[ 3.1378756   1.5033543   1.5578625   1.1679423 ]\n",
      " [ 3.3382282   3.133706   -0.08149576  1.6863797 ]\n",
      " [-0.09185123 -0.28489947  3.9042702   4.822503  ]]\n"
     ]
    }
   ],
   "source": [
    "import tensorflow as tf\n",
    "\n",
    "mat0 = tf.constant([[0,0,0]])\n",
    "mat1 = tf.zeros([1,3]) #创建全0矩阵\n",
    "mat2 = tf.ones([2,3]) #创建全1矩阵\n",
    "mat3 = tf.zeros_like(mat2) #创建维度跟mat2一样的全0矩阵\n",
    "mat4 = tf.fill([2,3], 58) #使用58填充矩阵\n",
    "mat5 = tf.linspace(0.0, 2.0, 5) # 等分\n",
    "mat6 = tf.random_uniform([3,4], -1, 5)\n",
    "\n",
    "with tf.Session() as sess:\n",
    "    print(sess.run(mat0))\n",
    "    print(sess.run(mat1))\n",
    "    print(sess.run(mat2))\n",
    "    print(sess.run(mat3))\n",
    "    print(sess.run(mat4))\n",
    "    print(sess.run(mat5))\n",
    "    print(sess.run(mat6))"
   ]
  },
  {
   "cell_type": "code",
   "execution_count": null,
   "metadata": {},
   "outputs": [],
   "source": []
  }
 ],
 "metadata": {
  "kernelspec": {
   "display_name": "Python 3",
   "language": "python",
   "name": "python3"
  },
  "language_info": {
   "codemirror_mode": {
    "name": "ipython",
    "version": 3
   },
   "file_extension": ".py",
   "mimetype": "text/x-python",
   "name": "python",
   "nbconvert_exporter": "python",
   "pygments_lexer": "ipython3",
   "version": "3.6.8"
  }
 },
 "nbformat": 4,
 "nbformat_minor": 2
}
