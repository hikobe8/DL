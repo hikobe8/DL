{
 "cells": [
  {
   "cell_type": "code",
   "execution_count": null,
   "metadata": {},
   "outputs": [],
   "source": [
    "import cv2\n",
    "import numpy as np\n",
    "\n",
    "img = cv2.imread('test.jpg', 1)\n",
    "cv2.imshow('src', img)\n",
    "imgInfo = img.shape\n",
    "height = imgInfo[0]\n",
    "width = imgInfo[1]\n",
    "dst = np.zeros(imgInfo, np.uint8)\n",
    "for i in range(0, height - 100): #下移100个像素\n",
    "    for j in range(0, width - 100): # 右移100个像素\n",
    "        dst[i + 100, j + 100] = img[i, j]\n",
    "cv2.imshow('right_bottom_100px', dst)\n",
    "dst = np.zeros(imgInfo, np.uint8)\n",
    "for i in range(100, height): #上移100个像素\n",
    "    for j in range(100, width): # 左移移100个像素\n",
    "        dst[i-100, j-100] = img[i, j]\n",
    "cv2.imshow('left_top_100px', dst)\n",
    "cv2.waitKey(0)"
   ]
  },
  {
   "cell_type": "code",
   "execution_count": null,
   "metadata": {},
   "outputs": [],
   "source": []
  },
  {
   "cell_type": "code",
   "execution_count": null,
   "metadata": {},
   "outputs": [],
   "source": []
  }
 ],
 "metadata": {
  "kernelspec": {
   "display_name": "Python 3",
   "language": "python",
   "name": "python3"
  },
  "language_info": {
   "codemirror_mode": {
    "name": "ipython",
    "version": 3
   },
   "file_extension": ".py",
   "mimetype": "text/x-python",
   "name": "python",
   "nbconvert_exporter": "python",
   "pygments_lexer": "ipython3",
   "version": "3.6.8"
  }
 },
 "nbformat": 4,
 "nbformat_minor": 2
}
