{
 "cells": [
  {
   "cell_type": "code",
   "execution_count": null,
   "metadata": {},
   "outputs": [],
   "source": [
    "# 最近邻域插值算法，是根据目标图片的每个像素点根据缩放比例来获取原图上对应的像素点\n",
    "# 原图 [10 20] 缩放0.3倍 目标图 [3 6]\n",
    "# 目标图上的[2 4]像素点 => 原图[2/0.3 4/0.3] = [6.66 13.33] = [7 13] 就是最近的点\n",
    "import cv2\n",
    "import numpy as np\n",
    "img = cv2.imread('test.jpg', 1)\n",
    "imgInfo = img.shape\n",
    "height = imgInfo[0]\n",
    "width = imgInfo[1]\n",
    "dstHeight = int(height * 0.5)\n",
    "dstWidth = int(width * 0.5)\n",
    "dstImage = np.zeros((dstHeight, dstWidth, 3), np.uint8)\n",
    "for i in range(0, dstHeight):\n",
    "    for j in range(0, dstWidth):\n",
    "        iNew = int(i * height * 1.0 / dstHeight)\n",
    "        jNew = int(j * width * 1.0 / dstWidth)\n",
    "        dstImage[i, j] = img[iNew, jNew]\n",
    "cv2.imshow('resize', dstImage)\n",
    "cv2.waitKey(0)"
   ]
  },
  {
   "cell_type": "code",
   "execution_count": null,
   "metadata": {},
   "outputs": [],
   "source": []
  }
 ],
 "metadata": {
  "kernelspec": {
   "display_name": "Python 3",
   "language": "python",
   "name": "python3"
  },
  "language_info": {
   "codemirror_mode": {
    "name": "ipython",
    "version": 3
   },
   "file_extension": ".py",
   "mimetype": "text/x-python",
   "name": "python",
   "nbconvert_exporter": "python",
   "pygments_lexer": "ipython3",
   "version": "3.6.8"
  }
 },
 "nbformat": 4,
 "nbformat_minor": 2
}
