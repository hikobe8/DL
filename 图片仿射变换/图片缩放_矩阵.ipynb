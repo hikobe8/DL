{
 "cells": [
  {
   "cell_type": "code",
   "execution_count": null,
   "metadata": {},
   "outputs": [],
   "source": [
    "#[[A1 A2 B1], [A3 A4 B2]]\n",
    "# 可以分解为 [[A1, A2], [A3, A4]] [[B1], [B2]]\n",
    "# newX = A1*x + A2*Y + B1\n",
    "# newY = A3*x + A4*y + B2\n",
    "import cv2\n",
    "import numpy as np\n",
    "img = cv2.imread('test.jpg', 1)\n",
    "cv2.imshow('src', img)\n",
    "height = img.shape[0]\n",
    "width = img.shape[1]\n",
    "matScale = np.float32([[0.5, 0, 0], [0, 0.5, 0]])\n",
    "dst = cv2.warpAffine(img, matScale, (int(width / 2), int(height / 2)))\n",
    "cv2.imshow('dst', dst)\n",
    "cv2.waitKey(0)"
   ]
  },
  {
   "cell_type": "code",
   "execution_count": null,
   "metadata": {},
   "outputs": [],
   "source": []
  }
 ],
 "metadata": {
  "kernelspec": {
   "display_name": "Python 3",
   "language": "python",
   "name": "python3"
  },
  "language_info": {
   "codemirror_mode": {
    "name": "ipython",
    "version": 3
   },
   "file_extension": ".py",
   "mimetype": "text/x-python",
   "name": "python",
   "nbconvert_exporter": "python",
   "pygments_lexer": "ipython3",
   "version": "3.6.8"
  }
 },
 "nbformat": 4,
 "nbformat_minor": 2
}
