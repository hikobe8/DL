{
 "cells": [
  {
   "cell_type": "code",
   "execution_count": null,
   "metadata": {},
   "outputs": [],
   "source": [
    "import cv2\n",
    "import numpy as np\n",
    "\n",
    "img = cv2.imread('test.jpg', 1)\n",
    "cv2.imshow('src', img)\n",
    "imgInfo = img.shape\n",
    "height = imgInfo[0]\n",
    "width = imgInfo[1]\n",
    "matShift = np.float32([[1, 0, 100], [0, 1, 200]]) #移位矩阵\n",
    "dst = cv2.warpAffine(img, matShift, (width, height))\n",
    "cv2.imshow('dst', dst)\n",
    "cv2.waitKey(0)"
   ]
  },
  {
   "cell_type": "code",
   "execution_count": null,
   "metadata": {},
   "outputs": [],
   "source": [
    "# 移位矩阵的原理\n",
    "# [[1, 0, 100], [0, 1, 200]] 可以拆分为一个2*2矩阵和一个2*1矩阵\n",
    "# [[1, 0], [0, 1]] A\n",
    "# [100, 200] B\n",
    "# 原始xy C\n",
    "# 目标x'y' = A*C+B = [[1, 0], [0, 1]]*[x, y] + [100, 200]\n",
    "# = [1 * x + 0 * y, 0 * x + 1 * y] + [100, 200]\n",
    "# = [x + 100, y + 200]"
   ]
  }
 ],
 "metadata": {
  "kernelspec": {
   "display_name": "Python 3",
   "language": "python",
   "name": "python3"
  },
  "language_info": {
   "codemirror_mode": {
    "name": "ipython",
    "version": 3
   },
   "file_extension": ".py",
   "mimetype": "text/x-python",
   "name": "python",
   "nbconvert_exporter": "python",
   "pygments_lexer": "ipython3",
   "version": "3.6.8"
  }
 },
 "nbformat": 4,
 "nbformat_minor": 2
}
