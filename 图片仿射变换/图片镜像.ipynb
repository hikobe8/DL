{
 "cells": [
  {
   "cell_type": "code",
   "execution_count": null,
   "metadata": {},
   "outputs": [],
   "source": [
    "#创建一个原图 height*2的图片绘制两张图片\n",
    "import cv2\n",
    "import numpy as np\n",
    "\n",
    "img = cv2.imread('test.jpg', 1)\n",
    "imgInfo = img.shape\n",
    "height = imgInfo[0]\n",
    "width = imgInfo[1]\n",
    "mode = imgInfo[2]\n",
    "newImgInfo = (height * 2, width, mode)\n",
    "dstImg = np.zeros(newImgInfo, np.uint8)\n",
    "for i in range(0, height):\n",
    "    for j in range(0, width):\n",
    "        dstImg[i, j] = img[i, j]\n",
    "        dstImg[height * 2 - 1 - i, j] = img[i, j]\n",
    "#绘制中间分割线\n",
    "for i in  range(0, width):\n",
    "    dstImg[height, i] = (0, 0, 255)\n",
    "cv2.imshow('dst', dstImg)\n",
    "cv2.waitKey(0)"
   ]
  },
  {
   "cell_type": "code",
   "execution_count": null,
   "metadata": {},
   "outputs": [],
   "source": []
  }
 ],
 "metadata": {
  "kernelspec": {
   "display_name": "Python 3",
   "language": "python",
   "name": "python3"
  },
  "language_info": {
   "codemirror_mode": {
    "name": "ipython",
    "version": 3
   },
   "file_extension": ".py",
   "mimetype": "text/x-python",
   "name": "python",
   "nbconvert_exporter": "python",
   "pygments_lexer": "ipython3",
   "version": "3.6.8"
  }
 },
 "nbformat": 4,
 "nbformat_minor": 2
}
