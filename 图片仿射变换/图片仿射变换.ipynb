{
 "cells": [
  {
   "cell_type": "code",
   "execution_count": null,
   "metadata": {},
   "outputs": [],
   "source": [
    "import cv2\n",
    "import numpy as np\n",
    "img = cv2.imread('test.jpg', 1)\n",
    "cv2.imshow('src', img)\n",
    "height = img.shape[0]\n",
    "width = img.shape[1]\n",
    "# 左上 左下 右上 三个点的映射\n",
    "matSrc = np.float32([[0, 0], [0, height - 1], [width - 1, 0]])\n",
    "matDst = np.float32([[50, 50], [100, height - 100], [ width - 100, 100]])\n",
    "# 组合\n",
    "matAffine = cv2.getAffineTransform(matSrc, matDst)\n",
    "dst = cv2.warpAffine(img, matAffine, (width, height))\n",
    "cv2.imshow('dst', dst)\n",
    "cv2.waitKey(0)"
   ]
  },
  {
   "cell_type": "code",
   "execution_count": null,
   "metadata": {},
   "outputs": [],
   "source": []
  }
 ],
 "metadata": {
  "kernelspec": {
   "display_name": "Python 3",
   "language": "python",
   "name": "python3"
  },
  "language_info": {
   "codemirror_mode": {
    "name": "ipython",
    "version": 3
   },
   "file_extension": ".py",
   "mimetype": "text/x-python",
   "name": "python",
   "nbconvert_exporter": "python",
   "pygments_lexer": "ipython3",
   "version": "3.6.8"
  }
 },
 "nbformat": 4,
 "nbformat_minor": 2
}
