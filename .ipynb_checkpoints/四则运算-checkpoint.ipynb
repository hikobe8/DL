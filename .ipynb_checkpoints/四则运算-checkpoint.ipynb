{
 "cells": [
  {
   "cell_type": "code",
   "execution_count": 4,
   "metadata": {},
   "outputs": [
    {
     "name": "stdout",
     "output_type": "stream",
     "text": [
      "8\n",
      "4\n",
      "12\n",
      "3.0\n"
     ]
    }
   ],
   "source": [
    "import tensorflow as tf\n",
    "#常量的四则运算\n",
    "data1 = tf.constant(6)\n",
    "data2 = tf.constant(2)\n",
    "dataAdd = tf.add(data1, data2)\n",
    "dataSub = tf.subtract(data1, data2)\n",
    "dataMul = tf.multiply(data1, data2)\n",
    "dataDiv = tf.divide(data1, data2)\n",
    "with tf.Session() as sess:\n",
    "    print(sess.run(dataAdd))\n",
    "    print(sess.run(dataSub))\n",
    "    print(sess.run(dataMul))\n",
    "    print(sess.run(dataDiv))"
   ]
  },
  {
   "cell_type": "code",
   "execution_count": 7,
   "metadata": {},
   "outputs": [
    {
     "name": "stdout",
     "output_type": "stream",
     "text": [
      "WARNING:tensorflow:From D:\\app\\Anaconda\\envs\\tensorflow\\lib\\site-packages\\tensorflow\\python\\framework\\op_def_library.py:263: colocate_with (from tensorflow.python.framework.ops) is deprecated and will be removed in a future version.\n",
      "Instructions for updating:\n",
      "Colocations handled automatically by placer.\n",
      "6\n"
     ]
    }
   ],
   "source": [
    "#变量的四则运算\n",
    "data1 = tf.Variable(6)\n",
    "data2 = tf.Variable(2)\n",
    "dataAdd = tf.add(data1, data2)\n",
    "dataSub = tf.subtract(data1, data2)\n",
    "dataMul = tf.multiply(data1, data2)\n",
    "dataDiv = tf.divide(data1, data2)\n",
    "init = tf.global_variables_initializer()\n",
    "with tf.Session() as sess:\n",
    "    sess.run(init)\n",
    "     print(sess.run(dataAdd))\n",
    "    print(sess.run(dataSub))\n",
    "    print(sess.run(dataMul))\n",
    "    print(sess.run(dataDiv))"
   ]
  },
  {
   "cell_type": "code",
   "execution_count": null,
   "metadata": {},
   "outputs": [],
   "source": []
  }
 ],
 "metadata": {
  "kernelspec": {
   "display_name": "Python 3",
   "language": "python",
   "name": "python3"
  },
  "language_info": {
   "codemirror_mode": {
    "name": "ipython",
    "version": 3
   },
   "file_extension": ".py",
   "mimetype": "text/x-python",
   "name": "python",
   "nbconvert_exporter": "python",
   "pygments_lexer": "ipython3",
   "version": "3.6.8"
  }
 },
 "nbformat": 4,
 "nbformat_minor": 2
}
