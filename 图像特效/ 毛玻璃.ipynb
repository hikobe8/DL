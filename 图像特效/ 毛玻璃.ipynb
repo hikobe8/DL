{
 "cells": [
  {
   "cell_type": "code",
   "execution_count": null,
   "metadata": {},
   "outputs": [],
   "source": [
    "import cv2\n",
    "import numpy as np\n",
    "import random\n",
    "# 右下 待优化\n",
    "img = cv2.imread('test.jpg', 1)\n",
    "height = img.shape[0]\n",
    "width = img.shape[1]\n",
    "dst = np.zeros((height, width, 3), np.uint8)\n",
    "limit = 20\n",
    "for m in range(0, height):\n",
    "    for n in range(0, width):\n",
    "        index = int(random.random() * limit)\n",
    "        if (m + index >= height or n + index >= height):\n",
    "            index = int(random.random() * -limit)\n",
    "        (b, g, r) = img[m + index, n + index]\n",
    "        dst[m , n] = (b, g, r)\n",
    "cv2.imshow('dst', dst)\n",
    "cv2.waitKey(0)"
   ]
  },
  {
   "cell_type": "code",
   "execution_count": null,
   "metadata": {},
   "outputs": [],
   "source": []
  }
 ],
 "metadata": {
  "kernelspec": {
   "display_name": "Python 3",
   "language": "python",
   "name": "python3"
  },
  "language_info": {
   "codemirror_mode": {
    "name": "ipython",
    "version": 3
   },
   "file_extension": ".py",
   "mimetype": "text/x-python",
   "name": "python",
   "nbconvert_exporter": "python",
   "pygments_lexer": "ipython3",
   "version": "3.6.8"
  }
 },
 "nbformat": 4,
 "nbformat_minor": 2
}
