{
 "cells": [
  {
   "cell_type": "code",
   "execution_count": null,
   "metadata": {},
   "outputs": [],
   "source": [
    "import cv2\n",
    "\n",
    "img = cv2.imread('test.jpg', 1)\n",
    "height = img.shape[0]\n",
    "widht = img.shape[1]\n",
    "for m in range(200, 300):\n",
    "    for n in range(200, 400):\n",
    "        if m % 10 == 0 and n % 10 == 0:\n",
    "            color = img[m, n]\n",
    "            for i in range(0, 10):\n",
    "                for j in range(0, 10):\n",
    "                    img[m + i, n + j] = color\n",
    "cv2.imshow('mosaic', img)\n",
    "cv2.waitKey(0)"
   ]
  }
 ],
 "metadata": {
  "kernelspec": {
   "display_name": "Python 3",
   "language": "python",
   "name": "python3"
  },
  "language_info": {
   "codemirror_mode": {
    "name": "ipython",
    "version": 3
   },
   "file_extension": ".py",
   "mimetype": "text/x-python",
   "name": "python",
   "nbconvert_exporter": "python",
   "pygments_lexer": "ipython3",
   "version": "3.6.8"
  }
 },
 "nbformat": 4,
 "nbformat_minor": 2
}
