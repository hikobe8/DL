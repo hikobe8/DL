{
 "cells": [
  {
   "cell_type": "code",
   "execution_count": null,
   "metadata": {},
   "outputs": [],
   "source": [
    "# 颜色映射  本例做了一个简单的颜色映射效果，增强图片的蓝色效果\n",
    "# b = b * 1.5\n",
    "# g = g * 1.3\n",
    "import cv2\n",
    "import numpy as np\n",
    "\n",
    "src = cv2.imread('test.jpg', 1)\n",
    "cv2.imshow('src', src)\n",
    "height = src.shape[0]\n",
    "width = src.shape[1]\n",
    "dst = np.zeros(src.shape, np.uint8)\n",
    "for i in range(0, height):\n",
    "    for j in range(0, width):\n",
    "        (b, g, r) = src[i, j]\n",
    "        b = b * 1.5\n",
    "        if b > 255:\n",
    "            b = 255\n",
    "        g = g * 1.3\n",
    "        if g > 255:\n",
    "            g = 255\n",
    "        dst[i, j] = (b, g, r)\n",
    "cv2.imshow('dst', dst)\n",
    "cv2.waitKey(0)"
   ]
  },
  {
   "cell_type": "code",
   "execution_count": null,
   "metadata": {},
   "outputs": [],
   "source": []
  }
 ],
 "metadata": {
  "kernelspec": {
   "display_name": "Python 3",
   "language": "python",
   "name": "python3"
  },
  "language_info": {
   "codemirror_mode": {
    "name": "ipython",
    "version": 3
   },
   "file_extension": ".py",
   "mimetype": "text/x-python",
   "name": "python",
   "nbconvert_exporter": "python",
   "pygments_lexer": "ipython3",
   "version": "3.6.8"
  }
 },
 "nbformat": 4,
 "nbformat_minor": 2
}
