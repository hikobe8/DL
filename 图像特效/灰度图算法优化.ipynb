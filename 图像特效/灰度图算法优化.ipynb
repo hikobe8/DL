{
 "cells": [
  {
   "cell_type": "code",
   "execution_count": null,
   "metadata": {},
   "outputs": [],
   "source": [
    "# 心理学灰度计算公式 gray = r * 0.299 + g * 0.587 + b * 0.114\n",
    "# 算法优化原则 整数的运算速度>浮点数 +->*/ 移位操作>*/\n",
    "# 优化计算公式\n",
    "# rgb的系数 * 4,取整之后 (r * 1 + g * 2 + b * 1) / 4\n",
    "# 使用移位 ((b + g<<1 + r)) >> 2\n",
    "\n",
    "import cv2\n",
    "import numpy as np\n",
    "img = cv2.imread('test.jpg', 1)\n",
    "imgInfo = img.shape\n",
    "height = imgInfo[0]\n",
    "width = imgInfo[1]\n",
    "dst = np.zeros(imgInfo, np.uint8)\n",
    "for i in range(0, height):\n",
    "    for j in range(0, width):\n",
    "        (b, g, r) = img[i, j]\n",
    "        #gray = int(b) * 0.114 + int(g) * 0.587 + int(r) * 0.299\n",
    "        #优化算法\n",
    "        gray = (int(b) + (int(g) << 1) + int(r)) >> 2\n",
    "        dst[i, j] = np.uint8(gray)\n",
    "cv2.imshow('dst_optimized', dst)\n",
    "cv2.waitKey(0)"
   ]
  },
  {
   "cell_type": "code",
   "execution_count": null,
   "metadata": {},
   "outputs": [],
   "source": []
  }
 ],
 "metadata": {
  "kernelspec": {
   "display_name": "Python 3",
   "language": "python",
   "name": "python3"
  },
  "language_info": {
   "codemirror_mode": {
    "name": "ipython",
    "version": 3
   },
   "file_extension": ".py",
   "mimetype": "text/x-python",
   "name": "python",
   "nbconvert_exporter": "python",
   "pygments_lexer": "ipython3",
   "version": "3.6.8"
  }
 },
 "nbformat": 4,
 "nbformat_minor": 2
}
