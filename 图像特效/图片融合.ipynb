{
 "cells": [
  {
   "cell_type": "code",
   "execution_count": null,
   "metadata": {},
   "outputs": [],
   "source": [
    "# 图片融合 dst = src0 * a + src1 * (1 - a)\n",
    "import cv2\n",
    "import numpy as np\n",
    "\n",
    "img0 = cv2.imread('dog.jpg', 1)\n",
    "cv2.imshow('img0', img0)\n",
    "img1 = cv2.imread('flower.jpg', 1)\n",
    "#以小的图片为基准\n",
    "height = img0.shape[0]\n",
    "width = img0.shape[1]\n",
    "\n",
    "roiH = int(height * 1)\n",
    "roiW = int(width * 1)\n",
    "\n",
    "img0ROI = img0[0:roiH, 0:roiW]\n",
    "img1ROI = img1[0:roiH, 0:roiW]\n",
    "\n",
    "dst = np.zeros((height, width, 3), np.uint8)\n",
    "dst = cv2.addWeighted(img0ROI, 0.5, img1ROI, 0.5, 0)\n",
    "cv2.imshow('dst', dst)\n",
    "cv2.waitKey(0)"
   ]
  }
 ],
 "metadata": {
  "kernelspec": {
   "display_name": "Python 3",
   "language": "python",
   "name": "python3"
  },
  "language_info": {
   "codemirror_mode": {
    "name": "ipython",
    "version": 3
   },
   "file_extension": ".py",
   "mimetype": "text/x-python",
   "name": "python",
   "nbconvert_exporter": "python",
   "pygments_lexer": "ipython3",
   "version": "3.6.8"
  }
 },
 "nbformat": 4,
 "nbformat_minor": 2
}
