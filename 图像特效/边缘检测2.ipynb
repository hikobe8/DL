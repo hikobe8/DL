{
 "cells": [
  {
   "cell_type": "code",
   "execution_count": null,
   "metadata": {},
   "outputs": [],
   "source": [
    "import cv2\n",
    "import numpy as np\n",
    "import math\n",
    "# 算子模板\n",
    "#  横向算子             横向算子               \n",
    "# [1  2  1             [1 0 -1 \n",
    "#  0  0  0              2 0 -2 \n",
    "# -1 -2 -1]             1 0 -1]\n",
    "# 根据算子模板做图片的卷积\n",
    "src = cv2.imread('flower.jpg', 1)\n",
    "cv2.imshow('src', src)\n",
    "height = src.shape[0]\n",
    "width = src.shape[1]\n",
    "gray = cv2.cvtColor(src, cv2.COLOR_BGR2GRAY)\n",
    "dst = np.zeros((height, width, 3), np.uint8)\n",
    "for i in range(0, height - 2):\n",
    "    for j in range(0, width - 2):\n",
    "        #做卷积运算\n",
    "        gy = gray[i, j] * 1 + gray[i, j + 1] * 2 + gray[i, j + 2] * 1 - gray[i + 2, j] * 1 - gray[i + 2, j + 1] * 2 - gray[i + 2, j + 2] * 1\n",
    "        gx = gray[i, j] * 1 + gray[i + 1, j] * 2 + gray[i + 2, j] * 1 - gray[i, j + 2] * 1 - gray[i + 1, j + 2] * 2 - gray[i + 2, j + 2] * 1\n",
    "        grads = math.sqrt(gy*gy + gx*gx)\n",
    "        if grads > 50:\n",
    "            dst[i, j] = (255, 255, 255)\n",
    "        else:\n",
    "            dst[i, j] = 0\n",
    "cv2.imshow('dst', dst)\n",
    "cv2.waitKey(0)"
   ]
  },
  {
   "cell_type": "code",
   "execution_count": null,
   "metadata": {},
   "outputs": [],
   "source": []
  }
 ],
 "metadata": {
  "kernelspec": {
   "display_name": "Python 3",
   "language": "python",
   "name": "python3"
  },
  "language_info": {
   "codemirror_mode": {
    "name": "ipython",
    "version": 3
   },
   "file_extension": ".py",
   "mimetype": "text/x-python",
   "name": "python",
   "nbconvert_exporter": "python",
   "pygments_lexer": "ipython3",
   "version": "3.6.8"
  }
 },
 "nbformat": 4,
 "nbformat_minor": 2
}
