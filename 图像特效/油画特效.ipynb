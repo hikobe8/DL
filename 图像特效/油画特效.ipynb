{
 "cells": [
  {
   "cell_type": "code",
   "execution_count": null,
   "metadata": {},
   "outputs": [],
   "source": [
    "#油画特效\n",
    "#先将图片进行灰度处理得到灰度图\n",
    "#将灰度图 0-255 分成 8个等级段 [1,8]\n",
    "#将图片进行分块，本例中分成 8 * 8的块，然后统计每块中的每个像素灰度值对应的灰度等级段\n",
    "#\n",
    "import cv2\n",
    "import numpy as np\n",
    "\n",
    "src = cv2.imread('small.jpg', 1)\n",
    "cv2.imshow('src', src)\n",
    "height = src.shape[0]\n",
    "width = src.shape[1]\n",
    "gray = cv2.cvtColor(src, cv2.COLOR_BGR2GRAY)\n",
    "dst = np.zeros(src.shape, np.uint8)\n",
    "for i in range(4, height - 4):\n",
    "    for j in range(4, width - 4):\n",
    "        array1 = np.zeros(8, np.uint8)\n",
    "        for m in range(-4, 4):\n",
    "            for n in range(-4, 4):\n",
    "                p1 = int(gray[i + m, j + n] / 32)\n",
    "                array1[p1] = array1[p1] + 1 # 统计灰度值等级\n",
    "        currentMax = array1[0]\n",
    "        l = 0\n",
    "        for k in range(0, 8):\n",
    "            if array1[k] > currentMax:\n",
    "                currentMax = array1[k]\n",
    "                l = k\n",
    "        for m in range(-4, 4):\n",
    "            for n in range(-4 , 4):\n",
    "                if gray[i + m, j + n] >= l * 32 and gray[i + m, j + n] <= (l + 1) * 32:\n",
    "                    (b, g, r) = src[i + m, j + n]\n",
    "        dst[i, j] = (b, g, r)\n",
    "cv2.imshow('dst', dst)\n",
    "cv2.waitKey(0)"
   ]
  },
  {
   "cell_type": "code",
   "execution_count": 1,
   "metadata": {},
   "outputs": [
    {
     "name": "stdout",
     "output_type": "stream",
     "text": [
      "end\n"
     ]
    }
   ],
   "source": [
    "import cv2\n",
    "img = cv2.imread('dog.jpg', 1)\n",
    "imgInfo = img.shape\n",
    "height = imgInfo[0]\n",
    "width = imgInfo[1]\n",
    "dstHeight = int(height*0.5)\n",
    "dstWidth = int(width*0.5)\n",
    "dst = cv2.resize(img, (dstWidth, dstHeight))\n",
    "cv2.imwrite('small.jpg', dst)\n",
    "print('end')"
   ]
  },
  {
   "cell_type": "code",
   "execution_count": null,
   "metadata": {},
   "outputs": [],
   "source": []
  }
 ],
 "metadata": {
  "kernelspec": {
   "display_name": "Python 3",
   "language": "python",
   "name": "python3"
  },
  "language_info": {
   "codemirror_mode": {
    "name": "ipython",
    "version": 3
   },
   "file_extension": ".py",
   "mimetype": "text/x-python",
   "name": "python",
   "nbconvert_exporter": "python",
   "pygments_lexer": "ipython3",
   "version": "3.6.8"
  }
 },
 "nbformat": 4,
 "nbformat_minor": 2
}
