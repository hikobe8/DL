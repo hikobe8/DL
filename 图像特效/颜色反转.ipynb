{
 "cells": [
  {
   "cell_type": "code",
   "execution_count": null,
   "metadata": {},
   "outputs": [],
   "source": [
    "import cv2\n",
    "import numpy as np\n",
    "# 灰度图的颜色反转 底板效果 255-当前像素值\n",
    "img = cv2.imread('test.jpg', 1)\n",
    "height = img.shape[0]\n",
    "width = img.shape[1]\n",
    "gray = cv2.cvtColor(img, cv2.COLOR_BGR2GRAY)\n",
    "dst = np.zeros((height, width, 1), np.uint8)\n",
    "for i in range(0, height):\n",
    "    for j in range(0, width):\n",
    "        grayPixel = gray[i, j]\n",
    "        dst[i, j] = 255 - grayPixel\n",
    "cv2.imshow('dst', dst)\n",
    "cv2.waitKey(0)"
   ]
  },
  {
   "cell_type": "code",
   "execution_count": null,
   "metadata": {},
   "outputs": [],
   "source": [
    "# 彩色图的颜色反转\n",
    "import cv2\n",
    "import numpy as np\n",
    "# 灰度图的颜色反转 底板效果 255-当前像素值\n",
    "img = cv2.imread('test.jpg', 1)\n",
    "height = img.shape[0]\n",
    "width = img.shape[1]\n",
    "dst = np.zeros((height, width, 3), np.uint8)\n",
    "for i in range(0, height):\n",
    "    for j in range(0, width):\n",
    "        (b, g, r) = img[i, j]\n",
    "        dst[i, j] = (255 - b, 255 - g, 255 - r)\n",
    "cv2.imshow('dst', dst)\n",
    "cv2.waitKey(0)"
   ]
  }
 ],
 "metadata": {
  "kernelspec": {
   "display_name": "Python 3",
   "language": "python",
   "name": "python3"
  },
  "language_info": {
   "codemirror_mode": {
    "name": "ipython",
    "version": 3
   },
   "file_extension": ".py",
   "mimetype": "text/x-python",
   "name": "python",
   "nbconvert_exporter": "python",
   "pygments_lexer": "ipython3",
   "version": "3.6.8"
  }
 },
 "nbformat": 4,
 "nbformat_minor": 2
}
