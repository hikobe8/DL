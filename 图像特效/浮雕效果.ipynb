{
 "cells": [
  {
   "cell_type": "code",
   "execution_count": null,
   "metadata": {},
   "outputs": [],
   "source": [
    "# 浮雕效果 像素值 = 当前像素值 - 下一个像素值 + 常量\n",
    "# dst[i, j] = src[i, j] - src[i, j + 1] + 150\n",
    "import cv2\n",
    "import numpy as np\n",
    "\n",
    "src = cv2.imread('test.jpg', 1)\n",
    "cv2.imshow('src', src)\n",
    "height = src.shape[0]\n",
    "width = src.shape[1]\n",
    "gray = cv2.cvtColor(src, cv2.COLOR_BGR2GRAY)\n",
    "dst = np.zeros((height, width, 1), np.uint8)\n",
    "for i in range(0, height):\n",
    "    for j in range(0, width - 1):\n",
    "        p0 = int(gray[i, j])\n",
    "        p1 = int(gray[i, j + 1])\n",
    "        dstP = p0 - p1 + 150\n",
    "        if dstP > 255:\n",
    "            dstP = 255\n",
    "        if dstP < 0:\n",
    "            dstP = 0\n",
    "        dst[i, j] = dstP\n",
    "cv2.imshow('dst', dst)\n",
    "cv2.waitKey(0)"
   ]
  },
  {
   "cell_type": "code",
   "execution_count": null,
   "metadata": {},
   "outputs": [],
   "source": []
  }
 ],
 "metadata": {
  "kernelspec": {
   "display_name": "Python 3",
   "language": "python",
   "name": "python3"
  },
  "language_info": {
   "codemirror_mode": {
    "name": "ipython",
    "version": 3
   },
   "file_extension": ".py",
   "mimetype": "text/x-python",
   "name": "python",
   "nbconvert_exporter": "python",
   "pygments_lexer": "ipython3",
   "version": "3.6.8"
  }
 },
 "nbformat": 4,
 "nbformat_minor": 2
}
