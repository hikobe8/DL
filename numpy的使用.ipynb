{
 "cells": [
  {
   "cell_type": "code",
   "execution_count": 8,
   "metadata": {},
   "outputs": [
    {
     "name": "stdout",
     "output_type": "stream",
     "text": [
      "[[  1]\n",
      " [100]\n",
      " [  3]]\n",
      "(3, 1)\n",
      "(5,)\n",
      "[[1. 1. 1.]\n",
      " [1. 1. 1.]]\n",
      "加减乘除\n",
      "[[2. 3. 4.]\n",
      " [5. 6. 7.]]\n",
      "[[0. 1. 2.]\n",
      " [3. 4. 5.]]\n",
      "[[1. 2. 3.]\n",
      " [4. 5. 6.]]\n",
      "[[0.5 1.  1.5]\n",
      " [2.  2.5 3. ]]\n"
     ]
    }
   ],
   "source": [
    "import numpy as np\n",
    "mat1= np.array([[1],[2],[3]])\n",
    "mat2= np.array([1,2,3,4,5])\n",
    "mat3 = np.ones([2,3])\n",
    "mat1[1][0] = 100 #修改\n",
    "print(mat1)\n",
    "print(mat1.shape)\n",
    "print(mat2.shape)\n",
    "print(mat3)\n",
    "print('加减乘除')\n",
    "#加减乘除\n",
    "mat4 = np.ones([2, 3])\n",
    "mat5 = np.array([[1, 2, 3],\n",
    "                 [4, 5, 6]])\n",
    "print(mat4+mat5)\n",
    "print(mat5-mat4)\n",
    "print(mat4*mat5)\n",
    "print(mat5/2)"
   ]
  },
  {
   "cell_type": "code",
   "execution_count": null,
   "metadata": {},
   "outputs": [],
   "source": []
  }
 ],
 "metadata": {
  "kernelspec": {
   "display_name": "Python 3",
   "language": "python",
   "name": "python3"
  },
  "language_info": {
   "codemirror_mode": {
    "name": "ipython",
    "version": 3
   },
   "file_extension": ".py",
   "mimetype": "text/x-python",
   "name": "python",
   "nbconvert_exporter": "python",
   "pygments_lexer": "ipython3",
   "version": "3.6.8"
  }
 },
 "nbformat": 4,
 "nbformat_minor": 2
}
