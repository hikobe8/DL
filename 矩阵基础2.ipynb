{
 "cells": [
  {
   "cell_type": "code",
   "execution_count": 9,
   "metadata": {},
   "outputs": [
    {
     "name": "stdout",
     "output_type": "stream",
     "text": [
      "[[23]]\n",
      "[[6 7]\n",
      " [7 8]]\n",
      "[[ 8 12]\n",
      " [10 15]]\n",
      "[array([[ 8, 12],\n",
      "       [10, 15]]), array([[6, 7],\n",
      "       [7, 8]]), array([[ 8, 12],\n",
      "       [10, 15]])]\n"
     ]
    }
   ],
   "source": [
    "import tensorflow as tf\n",
    "mat1 = tf.constant([[2,3]])\n",
    "mat2 = tf.constant([[4],\n",
    "                   [5]])\n",
    "matMul = tf.matmul(mat1, mat2) # 矩阵乘法 [m * k] * [k * n] = [m * n],第一个矩阵的列数等于第二个矩阵的行数才能满足矩阵的乘法\n",
    "matAdd = tf.add(mat1, mat2)\n",
    "mathMul = tf.multiply(mat1, mat2) # 普通的乘法，计算结果为最大行数*最大列数的矩阵\n",
    "with tf.Session() as sess:\n",
    "    print(sess.run(matMul))\n",
    "    print(sess.run(matAdd))\n",
    "    print(sess.run(mathMul))\n",
    "    print(sess.run([mathMul, matAdd, mathMul]))# 可以打印多个session.run()的结果"
   ]
  },
  {
   "cell_type": "code",
   "execution_count": null,
   "metadata": {},
   "outputs": [],
   "source": []
  },
  {
   "cell_type": "code",
   "execution_count": null,
   "metadata": {},
   "outputs": [],
   "source": []
  }
 ],
 "metadata": {
  "kernelspec": {
   "display_name": "Python 3",
   "language": "python",
   "name": "python3"
  },
  "language_info": {
   "codemirror_mode": {
    "name": "ipython",
    "version": 3
   },
   "file_extension": ".py",
   "mimetype": "text/x-python",
   "name": "python",
   "nbconvert_exporter": "python",
   "pygments_lexer": "ipython3",
   "version": "3.6.8"
  }
 },
 "nbformat": 4,
 "nbformat_minor": 2
}
