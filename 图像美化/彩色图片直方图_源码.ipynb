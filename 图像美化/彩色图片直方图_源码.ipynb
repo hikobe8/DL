{
 "cells": [
  {
   "cell_type": "code",
   "execution_count": 11,
   "metadata": {},
   "outputs": [
    {
     "name": "stdout",
     "output_type": "stream",
     "text": [
      "B Hist: \n"
     ]
    },
    {
     "data": {
      "image/png": "[encoded data removed]",
      "text/plain": [
       "<Figure size 432x288 with 1 Axes>"
      ]
     },
     "metadata": {
      "needs_background": "light"
     },
     "output_type": "display_data"
    },
    {
     "name": "stdout",
     "output_type": "stream",
     "text": [
      "G Hist: \n"
     ]
    },
    {
     "data": {
      "image/png": "[encoded data removed]",
      "text/plain": [
       "<Figure size 432x288 with 1 Axes>"
      ]
     },
     "metadata": {
      "needs_background": "light"
     },
     "output_type": "display_data"
    },
    {
     "name": "stdout",
     "output_type": "stream",
     "text": [
      "R Hist: \n"
     ]
    },
    {
     "data": {
      "image/png": "[encoded data removed]",
      "text/plain": [
       "<Figure size 432x288 with 1 Axes>"
      ]
     },
     "metadata": {
      "needs_background": "light"
     },
     "output_type": "display_data"
    }
   ],
   "source": [
    "import cv2\n",
    "import numpy as np\n",
    "import matplotlib.pyplot as plt\n",
    "\n",
    "img = cv2.imread('test.jpg', 1)\n",
    "count_b = np.zeros(256, np.float)\n",
    "count_g = np.zeros(256, np.float)\n",
    "count_r = np.zeros(256, np.float)\n",
    "height = img.shape[0]\n",
    "width = img.shape[1]\n",
    "for i in range(0, height):\n",
    "    for j in range(0, width):\n",
    "        (b, g, r) = img[i, j]\n",
    "        index_b = int(b)\n",
    "        index_g = int(g)\n",
    "        index_r = int(r)\n",
    "        count_b[index_b] = count_b[index_b] + 1\n",
    "        count_g[index_g] = count_g[index_g] + 1\n",
    "        count_r[index_r] = count_r[index_r] + 1\n",
    "for i in range(0, 256):\n",
    "    count_b[i] = count_b[i] / (height * width)\n",
    "    count_g[i] = count_g[i] / (height * width)\n",
    "    count_r[i] = count_r[i] / (height * width)\n",
    "x = np.linspace(0, 255, 256)\n",
    "y1 = count_b\n",
    "print('B Hist: ')\n",
    "plt.figure()\n",
    "plt.bar(x, y1, 0.9, alpha = 1, color='b')\n",
    "plt.show()\n",
    "y2 = count_g\n",
    "print('G Hist: ')\n",
    "plt.figure()\n",
    "plt.bar(x, y2, 0.9, alpha = 1, color='g')\n",
    "plt.show()\n",
    "print('R Hist: ')\n",
    "y3 = count_r\n",
    "plt.figure()\n",
    "plt.bar(x, y3,0.9,alpha=1,color='r')\n",
    "plt.show()"
   ]
  },
  {
   "cell_type": "code",
   "execution_count": null,
   "metadata": {},
   "outputs": [],
   "source": []
  },
  {
   "cell_type": "code",
   "execution_count": null,
   "metadata": {},
   "outputs": [],
   "source": []
  }
 ],
 "metadata": {
  "kernelspec": {
   "display_name": "Python 3",
   "language": "python",
   "name": "python3"
  },
  "language_info": {
   "codemirror_mode": {
    "name": "ipython",
    "version": 3
   },
   "file_extension": ".py",
   "mimetype": "text/x-python",
   "name": "python",
   "nbconvert_exporter": "python",
   "pygments_lexer": "ipython3",
   "version": "3.6.8"
  }
 },
 "nbformat": 4,
 "nbformat_minor": 2
}
