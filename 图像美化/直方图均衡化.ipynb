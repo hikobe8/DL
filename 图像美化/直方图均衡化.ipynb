{
 "cells": [
  {
   "cell_type": "code",
   "execution_count": null,
   "metadata": {},
   "outputs": [],
   "source": [
    "#灰度图的直方图均衡化\n",
    "import cv2\n",
    "\n",
    "src = cv2.imread('flower.jpg', 1)\n",
    "gray = cv2.cvtColor(src, cv2.COLOR_BGR2GRAY)\n",
    "cv2.imshow('gray', gray)\n",
    "dst = cv2.equalizeHist(gray)\n",
    "cv2.imshow('dst', dst)\n",
    "cv2.waitKey(0)"
   ]
  },
  {
   "cell_type": "code",
   "execution_count": null,
   "metadata": {},
   "outputs": [],
   "source": [
    "#彩色图的直方图均衡化\n",
    "import cv2\n",
    "\n",
    "src = cv2.imread('flower.jpg', 1)\n",
    "cv2.imshow('src', src)\n",
    "(b, g, r) = cv2.split(src)\n",
    "bH = cv2.equalizeHist(b)\n",
    "gH = cv2.equalizeHist(g)\n",
    "rH = cv2.equalizeHist(r)\n",
    "dst = cv2.merge((bH, gH, rH))\n",
    "cv2.imshow('dst', dst)\n",
    "cv2.waitKey(0)"
   ]
  },
  {
   "cell_type": "code",
   "execution_count": null,
   "metadata": {},
   "outputs": [],
   "source": [
    "# 彩色图yuv 直方图均衡化\n",
    "import cv2\n",
    "\n",
    "src = cv2.imread('flower.jpg', 1)\n",
    "cv2.imshow('src', src)\n",
    "yuv = cv2.cvtColor(src, cv2.COLOR_BGR2YCrCb)\n",
    "channelsYUV = cv2.split(yuv)\n",
    "channelsYUV[0] = cv2.equalizeHist(channelsYUV[0])\n",
    "dst = cv2.merge(channelsYUV)\n",
    "cv2.imshow('dst', dst)\n",
    "cv2.waitKey(0)"
   ]
  },
  {
   "cell_type": "code",
   "execution_count": null,
   "metadata": {},
   "outputs": [],
   "source": []
  }
 ],
 "metadata": {
  "kernelspec": {
   "display_name": "Python 3",
   "language": "python",
   "name": "python3"
  },
  "language_info": {
   "codemirror_mode": {
    "name": "ipython",
    "version": 3
   },
   "file_extension": ".py",
   "mimetype": "text/x-python",
   "name": "python",
   "nbconvert_exporter": "python",
   "pygments_lexer": "ipython3",
   "version": "3.6.8"
  }
 },
 "nbformat": 4,
 "nbformat_minor": 2
}
