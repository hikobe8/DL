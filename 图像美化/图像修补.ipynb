{
 "cells": [
  {
   "cell_type": "code",
   "execution_count": 1,
   "metadata": {},
   "outputs": [
    {
     "data": {
      "text/plain": [
       "True"
      ]
     },
     "execution_count": 1,
     "metadata": {},
     "output_type": "execute_result"
    }
   ],
   "source": [
    "import cv2\n",
    "\n",
    "#生成损坏图片\n",
    "# img = cv2.imread('flower.jpg', 1)\n",
    "# for i in range(100, 200):\n",
    "#     img[150, i] = (255, 255, 255)\n",
    "#     img[151, i] = (255, 255, 255)\n",
    "#     img[152, i] = (255, 255, 255)\n",
    "# for j in range(100, 200):\n",
    "#     img[j, 150] = (255, 255, 255)\n",
    "#     img[j, 151] = (255, 255, 255)\n",
    "#     img[j, 152] = (255, 255, 255)\n",
    "# cv2.imwrite('damaged.jpg', img)\n",
    "# cv2.imshow('img', img)\n",
    "# cv2.waitKey(0)"
   ]
  },
  {
   "cell_type": "code",
   "execution_count": null,
   "metadata": {},
   "outputs": [],
   "source": [
    "import cv2\n",
    "import numpy as np\n",
    "\n",
    "#图片修复，1生成paint单通道图， 损坏的部分使用255替换\n",
    "# 2 使用cv2.inpaint方法生成修复的图片\n",
    "\n",
    "img = cv2.imread('damaged.jpg', 1)\n",
    "height = img.shape[0]\n",
    "width = img.shape[1]\n",
    "paint = np.zeros((height, width, 1), np.uint8)\n",
    "for i in range(100, 200):\n",
    "    paint[150, i] = 255\n",
    "    paint[151, i] = 255\n",
    "    paint[152, i] = 255\n",
    "for j in range(100, 200):\n",
    "    paint[j, 150] = 255\n",
    "    paint[j, 151] = 255\n",
    "    paint[j, 152] = 255\n",
    "\n",
    "dst = cv2.inpaint(img, paint, 3, cv2.INPAINT_TELEA)\n",
    "cv2.imshow('dst', dst)\n",
    "cv2.waitKey(0)"
   ]
  },
  {
   "cell_type": "code",
   "execution_count": null,
   "metadata": {},
   "outputs": [],
   "source": []
  }
 ],
 "metadata": {
  "kernelspec": {
   "display_name": "Python 3",
   "language": "python",
   "name": "python3"
  },
  "language_info": {
   "codemirror_mode": {
    "name": "ipython",
    "version": 3
   },
   "file_extension": ".py",
   "mimetype": "text/x-python",
   "name": "python",
   "nbconvert_exporter": "python",
   "pygments_lexer": "ipython3",
   "version": "3.6.8"
  }
 },
 "nbformat": 4,
 "nbformat_minor": 2
}
