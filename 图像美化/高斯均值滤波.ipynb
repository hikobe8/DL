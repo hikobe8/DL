{
 "cells": [
  {
   "cell_type": "code",
   "execution_count": null,
   "metadata": {},
   "outputs": [],
   "source": [
    "#高斯滤波\n",
    "import cv2\n",
    "\n",
    "src = cv2.imread('image11.jpg', 1)\n",
    "cv2.imshow('src', src)\n",
    "dst = cv2.GaussianBlur(src, (5, 5), 1.5)\n",
    "cv2.imshow('dst', dst)\n",
    "cv2.waitKey(0)"
   ]
  },
  {
   "cell_type": "code",
   "execution_count": null,
   "metadata": {},
   "outputs": [],
   "source": [
    "#均值滤波 6*6矩阵 [0...0] + 6*6 像素值 , 和除以36得到目标像素值\n",
    "import cv2\n",
    "import numpy as np\n",
    "\n",
    "src = cv2.imread('image11.jpg', 1)\n",
    "cv2.imshow('src', src)\n",
    "height = src.shape[0]\n",
    "width = src.shape[1]\n",
    "\n",
    "dst = np.zeros((height, width, 3), np.uint8)\n",
    "for i in range(3, height - 3):\n",
    "    for j in range(3, width - 3):\n",
    "        sum_b = int(0)\n",
    "        sum_g = int(0)\n",
    "        sum_r = int(0)\n",
    "        for m in range(-3, 3):\n",
    "            for n in range(-3, 3):\n",
    "                (b, g, r) = src[i + m, j + n]\n",
    "                sum_b = sum_b + int(b)\n",
    "                sum_g = sum_g + int(g)\n",
    "                sum_r = sum_r + int(r)\n",
    "        bb = np.uint8(sum_b / 36)\n",
    "        gg = np.uint8(sum_g / 36)\n",
    "        rr = np.uint8(sum_r / 36)\n",
    "        dst[i, j] = (bb, gg, rr)\n",
    "        \n",
    "cv2.imshow('dst', dst)\n",
    "cv2.waitKey(0)"
   ]
  },
  {
   "cell_type": "code",
   "execution_count": null,
   "metadata": {},
   "outputs": [],
   "source": []
  }
 ],
 "metadata": {
  "kernelspec": {
   "display_name": "Python 3",
   "language": "python",
   "name": "python3"
  },
  "language_info": {
   "codemirror_mode": {
    "name": "ipython",
    "version": 3
   },
   "file_extension": ".py",
   "mimetype": "text/x-python",
   "name": "python",
   "nbconvert_exporter": "python",
   "pygments_lexer": "ipython3",
   "version": "3.6.8"
  }
 },
 "nbformat": 4,
 "nbformat_minor": 2
}
