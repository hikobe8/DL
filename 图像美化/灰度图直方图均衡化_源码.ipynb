{
 "cells": [
  {
   "cell_type": "code",
   "execution_count": null,
   "metadata": {},
   "outputs": [],
   "source": [
    "import cv2\n",
    "import numpy as np\n",
    "import matplotlib.pyplot as plt\n",
    "\n",
    "img = cv2.imread('image0.jpg', 1)\n",
    "cv2.imshow('src', img)\n",
    "gray = cv2.cvtColor(img, cv2.COLOR_BGR2GRAY)\n",
    "cv2.imshow('gray', gray)\n",
    "height = gray.shape[0]\n",
    "width = gray.shape[1]\n",
    "count = np.zeros(256, np.float)\n",
    "#开始统计\n",
    "for i in range(0, height):\n",
    "    for j in range(0, width):\n",
    "        index = int(gray[i, j])\n",
    "        count[index] = count[index] + 1\n",
    "\n",
    "for i in range(0, 256):\n",
    "    count[i] = count[i] / (height * width)\n",
    "    \n",
    "#计算累计概率\n",
    "sum = float(0)\n",
    "for i in range(0, 256):\n",
    "    sum = sum + count[i]\n",
    "    count[i] = sum\n",
    "\n",
    "#生成映射表\n",
    "map = np.zeros(256, np.uint16)\n",
    "for i in range(0, 256):\n",
    "    map[i] = np.uint16(count[i] * 255)\n",
    "\n",
    "dst = np.zeros((height, width, 1), np.uint8)\n",
    "#根据映射表转换灰度图像素值\n",
    "for i in range(0, height):\n",
    "    for j in range(0, width):\n",
    "        index = int(gray[i, j])\n",
    "        dst[i, j] = map[index]\n",
    "cv2.imshow('dst', dst)\n",
    "cv2.waitKey(0)"
   ]
  },
  {
   "cell_type": "code",
   "execution_count": null,
   "metadata": {},
   "outputs": [],
   "source": []
  }
 ],
 "metadata": {
  "kernelspec": {
   "display_name": "Python 3",
   "language": "python",
   "name": "python3"
  },
  "language_info": {
   "codemirror_mode": {
    "name": "ipython",
    "version": 3
   },
   "file_extension": ".py",
   "mimetype": "text/x-python",
   "name": "python",
   "nbconvert_exporter": "python",
   "pygments_lexer": "ipython3",
   "version": "3.6.8"
  }
 },
 "nbformat": 4,
 "nbformat_minor": 2
}
