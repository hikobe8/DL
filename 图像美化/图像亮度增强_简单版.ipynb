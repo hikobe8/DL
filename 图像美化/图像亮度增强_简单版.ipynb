{
 "cells": [
  {
   "cell_type": "code",
   "execution_count": null,
   "metadata": {},
   "outputs": [],
   "source": [
    "# 每个颜色通道加一个常量值，本例为40\n",
    "import cv2\n",
    "import numpy as np\n",
    "\n",
    "src = cv2.imread('image0.jpg', 1)\n",
    "cv2.imshow('src', src)\n",
    "height = src.shape[0]\n",
    "width = src.shape[1]\n",
    "dst = np.zeros(src.shape, np.uint8)\n",
    "for i in range(0, height):\n",
    "    for j in range(0, width):\n",
    "        (b, g, r) = src[i, j]\n",
    "        b += 40\n",
    "        if b > 255:\n",
    "            b = 255\n",
    "        g += 40\n",
    "        if g > 255:\n",
    "            g = 255\n",
    "        r += 40\n",
    "        if r > 255:\n",
    "            r = 255\n",
    "        dst[i,j] = (b, g, r)\n",
    "cv2.imshow('dst', dst)\n",
    "cv2.waitKey(0)"
   ]
  },
  {
   "cell_type": "code",
   "execution_count": null,
   "metadata": {},
   "outputs": [],
   "source": []
  }
 ],
 "metadata": {
  "kernelspec": {
   "display_name": "Python 3",
   "language": "python",
   "name": "python3"
  },
  "language_info": {
   "codemirror_mode": {
    "name": "ipython",
    "version": 3
   },
   "file_extension": ".py",
   "mimetype": "text/x-python",
   "name": "python",
   "nbconvert_exporter": "python",
   "pygments_lexer": "ipython3",
   "version": "3.6.8"
  }
 },
 "nbformat": 4,
 "nbformat_minor": 2
}
