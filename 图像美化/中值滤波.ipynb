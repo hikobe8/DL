{
 "cells": [
  {
   "cell_type": "code",
   "execution_count": null,
   "metadata": {},
   "outputs": [],
   "source": [
    "import cv2\n",
    "import numpy as np\n",
    "\n",
    "img = cv2.imread('image11.jpg', 1)\n",
    "gray = cv2.cvtColor(img, cv2.COLOR_BGR2GRAY)\n",
    "cv2.imshow('gray', gray)\n",
    "height = img.shape[0]\n",
    "width = img.shape[1]\n",
    "dst = np.zeros((height, width, 1), np.uint8)\n",
    "collect = np.zeros(9, np.uint8)\n",
    "for i in range(1, height - 2):\n",
    "    for j in range(1, width - 2):\n",
    "        k = 0\n",
    "        for m in range(-1, 2):\n",
    "            for n in  range(-1, 2):\n",
    "                collect[k] = gray[i + m, j + n]\n",
    "                k = k + 1\n",
    "        #排序\n",
    "        for p in range(0, 8):\n",
    "            for q in range(p + 1, 9):\n",
    "                if collect[p] < collect[q]:\n",
    "                    tmp = collect[p]\n",
    "                    collect[p] = collect[q]\n",
    "                    collect[q] = tmp\n",
    "        #排序结束取中值\n",
    "        dst[i, j] = collect[4]\n",
    "cv2.imshow('dst', dst)\n",
    "cv2.waitKey(0)"
   ]
  },
  {
   "cell_type": "code",
   "execution_count": null,
   "metadata": {},
   "outputs": [],
   "source": []
  }
 ],
 "metadata": {
  "kernelspec": {
   "display_name": "Python 3",
   "language": "python",
   "name": "python3"
  },
  "language_info": {
   "codemirror_mode": {
    "name": "ipython",
    "version": 3
   },
   "file_extension": ".py",
   "mimetype": "text/x-python",
   "name": "python",
   "nbconvert_exporter": "python",
   "pygments_lexer": "ipython3",
   "version": "3.6.8"
  }
 },
 "nbformat": 4,
 "nbformat_minor": 2
}
